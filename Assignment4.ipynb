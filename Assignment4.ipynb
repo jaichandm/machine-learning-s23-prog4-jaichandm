{
 "cells": [
  {
   "cell_type": "markdown",
   "metadata": {},
   "source": [
    "##### Assignment 4 - Linear Regression"
   ]
  },
  {
   "cell_type": "markdown",
   "metadata": {},
   "source": [
    "## Part 1 - Read your data frame.\n",
    "\n",
    "The CSV file is \"hockey_data2.csv\".  This data came from Kaggle.  It has **a lot** of hockey performance features.  You will want to read up on some of them.  Looking at correlations with Salary might help you find important features.  "
   ]
  },
  {
   "cell_type": "code",
   "execution_count": 6,
   "metadata": {},
   "outputs": [
    {
     "name": "stdout",
     "output_type": "stream",
     "text": [
      "Salary    1.000000\n",
      "GF        0.659654\n",
      "xGF       0.657915\n",
      "SCF       0.652631\n",
      "SF        0.651598\n",
      "            ...   \n",
      "iHDf     -0.058446\n",
      "iPenDf   -0.061890\n",
      "DftRd    -0.206641\n",
      "Ovrl     -0.222808\n",
      "DftYr    -0.471547\n",
      "Name: Salary, Length: 144, dtype: float64\n"
     ]
    }
   ],
   "source": [
    "import pandas as pd\n",
    "\n",
    "# Load the CSV file\n",
    "hockey_df = pd.read_csv(\"hockey_data2.csv\")\n",
    "\n",
    "# Calculate the correlation coefficients\n",
    "hockey_corr = hockey_df.corr()[\"Salary\"].sort_values(ascending=False)\n",
    "\n",
    "# Print the correlations\n",
    "print(hockey_corr)\n",
    "\n"
   ]
  },
  {
   "cell_type": "markdown",
   "metadata": {},
   "source": [
    "## Part 2 - Display info\n",
    "Take a look at the information.  Note any features that are missing values.  Note any features that are objects, but could be numerical"
   ]
  },
  {
   "cell_type": "code",
   "execution_count": 7,
   "metadata": {},
   "outputs": [
    {
     "name": "stdout",
     "output_type": "stream",
     "text": [
      "********INFO********\n",
      "<class 'pandas.core.frame.DataFrame'>\n",
      "RangeIndex: 612 entries, 0 to 611\n",
      "Columns: 154 entries, Salary to GS/G\n",
      "dtypes: float64(73), int64(71), object(10)\n",
      "memory usage: 736.4+ KB\n",
      "None\n",
      "********IsNull********\n",
      "Salary      0\n",
      "Born        0\n",
      "City        0\n",
      "Pr/St     153\n",
      "Cntry       0\n",
      "         ... \n",
      "Grit        0\n",
      "DAP         0\n",
      "Pace        1\n",
      "GS          1\n",
      "GS/G        2\n",
      "Length: 154, dtype: int64\n",
      "********Check for Numerical********\n"
     ]
    }
   ],
   "source": [
    "import numpy as np\n",
    "\n",
    "print(\"********INFO********\")\n",
    "print(hockey_df.info())\n",
    "print(\"********IsNull********\")\n",
    "print(hockey_df.isnull().sum())\n",
    "print(\"********Check for Numerical********\")\n",
    "for col in hockey_df.columns:\n",
    "    if hockey_df[col].dtype == 'object' and pd.to_numeric(hockey_df[col], errors='coerce').notnull().all():\n",
    "        print(col, 'could be numerical')"
   ]
  },
  {
   "cell_type": "markdown",
   "metadata": {},
   "source": [
    "Clean up any missing data values.  If a lot of values of a feature are missing, remove the feature.  Otherwise remove the instance or replace by the median."
   ]
  },
  {
   "cell_type": "code",
   "execution_count": 17,
   "metadata": {},
   "outputs": [
    {
     "name": "stdout",
     "output_type": "stream",
     "text": [
      "********Cleaning Dataset********\n",
      "********IsNull********\n",
      "Salary    0\n",
      "Born      0\n",
      "City      0\n",
      "Pr/St     0\n",
      "Cntry     0\n",
      "         ..\n",
      "Grit      0\n",
      "DAP       0\n",
      "Pace      0\n",
      "GS        0\n",
      "GS/G      0\n",
      "Length: 154, dtype: int64\n"
     ]
    }
   ],
   "source": [
    "import numpy as np\n",
    "\n",
    "print(\"********Cleaning Dataset********\")\n",
    "\n",
    "threshold = len(hockey_df)*0.4\n",
    "hockey_df = hockey_df.dropna(thresh=threshold, axis=1)\n",
    "    \n",
    "for col in hockey_df.columns:\n",
    "    if hockey_df[col].isnull().sum() > 0:\n",
    "        if hockey_df[col].isnull().sum() > 0.4*len(hockey_df):\n",
    "            hockey_df = hockey_df.drop(col, axis=1, inplace=True)\n",
    "        else:\n",
    "            if hockey_df[col].dtype == 'float64':\n",
    "                median = np.median(hockey_df[col])\n",
    "                hockey_df[col].fillna(median, inplace=True)\n",
    "            elif hockey_df[col].dtype == 'int64':\n",
    "                median = np.median(hockey_df[col])\n",
    "                hockey_df[col].fillna(median, inplace=True)\n",
    "            elif hockey_df[col].dtype == 'object':\n",
    "                hockey_df[col].fillna('unknown', inplace=True)\n",
    "            else:\n",
    "                median = np.median(hockey_df[col])\n",
    "                hockey_df[col].fillna(median, inplace=True)\n",
    "    else:\n",
    "        if hockey_df[col].dtype == 'float64':\n",
    "            median = np.median(hockey_df[col])\n",
    "            hockey_df[col].fillna(median, inplace=True)\n",
    "        elif hockey_df[col].dtype == 'int64':\n",
    "            median = np.median(hockey_df[col])\n",
    "            hockey_df[col].fillna(median, inplace=True)\n",
    "        elif hockey_df[col].dtype == 'object':\n",
    "            hockey_df[col].fillna('unknown', inplace=True)\n",
    "        else:\n",
    "            median = np.median(hockey_df[col])\n",
    "            hockey_df[col].fillna(median, inplace=True)\n",
    "\n",
    "print(\"********IsNull********\")\n",
    "hockey_df=hockey_df.dropna()\n",
    "print(hockey_df.isnull().sum())\n"
   ]
  },
  {
   "cell_type": "markdown",
   "metadata": {},
   "source": [
    "### _Notes_\n",
    "(Your notes here)"
   ]
  },
  {
   "cell_type": "markdown",
   "metadata": {},
   "source": [
    "## Part 3 - Split the data frame\n",
    "\n",
    "Use the train_test_split() function to split the data set into training(75%) and test(25%) sets. "
   ]
  },
  {
   "cell_type": "code",
   "execution_count": 19,
   "metadata": {},
   "outputs": [
    {
     "name": "stdout",
     "output_type": "stream",
     "text": [
      "X_train shape: (370, 153)\n",
      "y_train shape: (370,)\n",
      "X_test shape: (124, 153)\n",
      "y_test shape: (124,)\n"
     ]
    }
   ],
   "source": [
    "from sklearn.model_selection import train_test_split\n",
    "\n",
    "# Split the data into features (X) and target (y)\n",
    "X = hockey_df.drop(['Salary'], axis=1)\n",
    "Y = hockey_df['Salary']\n",
    "\n",
    "# Split the data into training and test sets\n",
    "X_train, X_test, Y_train, Y_test = train_test_split(X, Y, test_size=0.25, random_state=42)\n",
    "\n",
    "# Print the shapes of the resulting data sets\n",
    "print(\"X_train shape:\", X_train.shape)\n",
    "print(\"y_train shape:\", Y_train.shape)\n",
    "print(\"X_test shape:\", X_test.shape)\n",
    "print(\"y_test shape:\", Y_test.shape)"
   ]
  },
  {
   "cell_type": "markdown",
   "metadata": {},
   "source": [
    "## Part 4 - Do some scatter plots\n",
    "Our goal is to predict the salary for a player based on their stats.  We have a lot of features we can use, so you will want to look at a subset.\n",
    "\n",
    "Use scatter_matrix."
   ]
  },
  {
   "cell_type": "code",
   "execution_count": 10,
   "metadata": {},
   "outputs": [],
   "source": [
    "# Your code here"
   ]
  },
  {
   "cell_type": "markdown",
   "metadata": {},
   "source": [
    "## Part 5 - Linear Regression  (Input is GP = games played)\n",
    "1. Pull out \"GP\" for the X and \"Salary\" for y. \n",
    "2. Fit the data.\n",
    "3. Show R2 and Mean Square Error\n",
    "4. Discuss the results"
   ]
  },
  {
   "cell_type": "code",
   "execution_count": 11,
   "metadata": {},
   "outputs": [],
   "source": [
    "# Your code here"
   ]
  },
  {
   "cell_type": "markdown",
   "metadata": {},
   "source": [
    "Discussion: "
   ]
  },
  {
   "cell_type": "markdown",
   "metadata": {},
   "source": [
    "## Part 6 - Add features to X\n",
    "1. Pick up to 4 other features that you think might improve the model and use them for X.\n",
    "2. Fit the data\n",
    "3. Show the scores\n",
    "4. Discuss the results"
   ]
  },
  {
   "cell_type": "code",
   "execution_count": 12,
   "metadata": {},
   "outputs": [],
   "source": [
    "# Your code here"
   ]
  },
  {
   "cell_type": "markdown",
   "metadata": {},
   "source": [
    "Discussion: "
   ]
  },
  {
   "cell_type": "markdown",
   "metadata": {},
   "source": []
  },
  {
   "cell_type": "markdown",
   "metadata": {},
   "source": [
    "## Part 7 - Add a new feature to the Model\n",
    "\n",
    "Lets make a new feature that attemps to capture a players contributions.  We will combine G=Goals over the season, A=Assists over the season and +/- = extra goals scored while player is on the ice over the season.  (If the players team scored 7 goals and the opponents scored 3 goals while the player was on the ice, then their plus/minus is 7 - 3 = 4.  A positive +/- is good, negative not so much). \n",
    "\n",
    "Lets create a feature that combines these and call it Goal-Power.  \n",
    "Make it G + .4A + .3 +/- \n",
    "\n",
    "1. Fit the data using Goal-Power and Salary\n",
    "1. Show the scores\n",
    "1. Scatter plot the data\n",
    "1. Discuss the results"
   ]
  },
  {
   "cell_type": "code",
   "execution_count": 13,
   "metadata": {},
   "outputs": [],
   "source": [
    "# Your code here"
   ]
  },
  {
   "cell_type": "markdown",
   "metadata": {},
   "source": [
    "Discussion:"
   ]
  },
  {
   "cell_type": "markdown",
   "metadata": {},
   "source": [
    "## Part 8 - Use the new feature and others\n",
    "\n",
    "1. Use up to 4 other features along with Goal-Power to predict the salary. Don't use any of the three features (G, A, +/-) that we used to create Goal-Power.\n",
    "2. Fit the data\n",
    "3. Show the scores\n",
    "4. Discuss the results"
   ]
  },
  {
   "cell_type": "code",
   "execution_count": 14,
   "metadata": {},
   "outputs": [],
   "source": [
    "# Your code here"
   ]
  },
  {
   "cell_type": "markdown",
   "metadata": {},
   "source": [
    "Discussion:"
   ]
  },
  {
   "cell_type": "markdown",
   "metadata": {},
   "source": [
    "## Part 9 - Test Set time\n",
    "Evaluate the model for r2 and mean square error on the test set and discuss your results in comparison to part 8."
   ]
  },
  {
   "cell_type": "code",
   "execution_count": 15,
   "metadata": {},
   "outputs": [],
   "source": [
    "# Your code here"
   ]
  },
  {
   "cell_type": "markdown",
   "metadata": {},
   "source": [
    "Discussion:"
   ]
  },
  {
   "cell_type": "markdown",
   "metadata": {},
   "source": [
    "# Bonus options\n",
    "For each of the options, redo your regression using the new features, report the results and discuss.\n"
   ]
  },
  {
   "cell_type": "markdown",
   "metadata": {},
   "source": [
    "1. Look for a better set of features to predict Salary.  \n",
    "2. Add in polynomial features."
   ]
  },
  {
   "cell_type": "code",
   "execution_count": null,
   "metadata": {},
   "outputs": [],
   "source": []
  },
  {
   "cell_type": "code",
   "execution_count": null,
   "metadata": {},
   "outputs": [],
   "source": []
  }
 ],
 "metadata": {
  "kernelspec": {
   "display_name": "Python 3 (ipykernel)",
   "language": "python",
   "name": "python3"
  },
  "language_info": {
   "codemirror_mode": {
    "name": "ipython",
    "version": 3
   },
   "file_extension": ".py",
   "mimetype": "text/x-python",
   "name": "python",
   "nbconvert_exporter": "python",
   "pygments_lexer": "ipython3",
   "version": "3.9.13"
  }
 },
 "nbformat": 4,
 "nbformat_minor": 4
}
